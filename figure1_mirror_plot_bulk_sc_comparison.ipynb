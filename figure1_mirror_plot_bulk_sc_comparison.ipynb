{
 "cells": [
  {
   "cell_type": "code",
   "execution_count": 4,
   "id": "e9b05ecc",
   "metadata": {},
   "outputs": [],
   "source": [
    "import pyteomics.mzml\n",
    "import spectrum_utils.spectrum as sus\n",
    "import matplotlib.pyplot as plt\n",
    "import spectrum_utils.plot as sup\n",
    "import spectrum_utils.iplot as isup\n",
    "import pandas as pd"
   ]
  },
  {
   "cell_type": "code",
   "execution_count": 5,
   "id": "5a748e69",
   "metadata": {},
   "outputs": [],
   "source": [
    "def get_spec(my_scan, my_peptide, mzml):\n",
    "    my_id = 'controllerType=0 controllerNumber=1 scan='+ my_scan\n",
    "    spectrum_dict = mzml.get_by_id(my_id)\n",
    "    \n",
    "    \n",
    "    spectrum_id = spectrum_dict['id']\n",
    "    mz_array = spectrum_dict['m/z array']\n",
    "    intensity_array = spectrum_dict['intensity array']\n",
    "    retention_time = (spectrum_dict['scanList']['scan'][0].get('scan start time', -1))\n",
    "    precursor = spectrum_dict['precursorList']['precursor'][0]\n",
    "    precursor_ion = precursor['selectedIonList']['selectedIon'][0]\n",
    "    precursor_mz = precursor_ion['selected ion m/z']\n",
    "\n",
    "    if 'charge state' in precursor_ion:\n",
    "        precursor_charge = int(precursor_ion['charge state'])\n",
    "    elif 'possible charge state' in precursor_ion:\n",
    "        precursor_charge = int(precursor_ion['possible charge state'])\n",
    "    else:\n",
    "        raise ValueError('Unknown precursor charge')\n",
    "\n",
    "    scan_num = spectrum_dict[\"id\"][spectrum_dict[\"id\"].find('scan=') + 5:]\n",
    "    ms_level = spectrum_dict[\"ms level\"]\n",
    "    total_ion_curr = spectrum_dict[\"total ion current\"]\n",
    "    ion_time = spectrum_dict[\"scanList\"]['scan'][0][\"ion injection time\"]\n",
    "\n",
    "    spectrum = sus.MsmsSpectrum(spectrum_id, precursor_mz, precursor_charge,\n",
    "                        mz_array, intensity_array, None, retention_time, peptide=my_peptide)\n",
    " \n",
    "    # Process the MS/MS spectrum.\n",
    "    fragment_tol_mass = 50\n",
    "    fragment_tol_mode = 'ppm'    \n",
    "    spectrum = (spectrum.annotate_peptide_fragments(fragment_tol_mass, fragment_tol_mode,\n",
    "                                            ion_types='by',max_ion_charge=2))\n",
    "    \n",
    "    return spectrum"
   ]
  },
  {
   "cell_type": "code",
   "execution_count": 6,
   "id": "e5aea2a6",
   "metadata": {},
   "outputs": [],
   "source": [
    "mzml_2ng1 = pyteomics.mzml.MzML('/Volumes/LaCie/SingleCellSpectra copy for true single cell/data/mzMLs/Ex_Auto_J3_30umTB_2ngQC_60m_1.mzML')\n",
    "mzml_bulk1 = pyteomics.mzml.MzML('/Volumes/LaCie/SingleCellSpectra copy for true single cell/data/mzMLs/OR11_20160122_PG_HeLa_CVB3_CT_A.mzML')"
   ]
  },
  {
   "cell_type": "code",
   "execution_count": 11,
   "id": "dc0697d9",
   "metadata": {},
   "outputs": [
    {
     "name": "stderr",
     "output_type": "stream",
     "text": [
      "/var/folders/zk/jc657sbs27l7_q82ygdlvxxc0000gp/T/ipykernel_36615/2335018568.py:12: MatplotlibDeprecationWarning: The 'b' parameter of grid() has been renamed 'visible' since Matplotlib 3.5; support for the old name will be dropped two minor releases later.\n",
      "  plt.grid(b=False, which='both')\n"
     ]
    },
    {
     "data": {
      "image/png": "[encoded data removed]",
      "text/plain": [
       "<Figure size 1080x576 with 1 Axes>"
      ]
     },
     "metadata": {
      "needs_background": "light"
     },
     "output_type": "display_data"
    }
   ],
   "source": [
    "peptide ='GFAFVTFDDHDSVDK'\n",
    "spectrum_bulk = get_spec('85781',peptide,mzml_bulk1)\n",
    "spectrum_sc = get_spec('26417',peptide ,mzml_2ng1)\n",
    "\n",
    "fig, ax = plt.subplots(figsize=(15, 8))\n",
    "sup.mirror(spectrum_sc,\n",
    "           spectrum_bulk,\n",
    "           ax=ax)\n",
    "plt.xlim(0, 1600)\n",
    "plt.yticks(fontsize=12)\n",
    "plt.xticks(fontsize=12)\n",
    "plt.grid(b=False, which='both')\n",
    "plt.xlabel('m/z', fontsize=18)\n",
    "plt.ylabel('Intensity', fontsize=18)\n",
    "plt.savefig('mirror_plot.png', dpi=600)\n",
    "plt.show()"
   ]
  },
  {
   "cell_type": "code",
   "execution_count": 6,
   "id": "bce3c2e0",
   "metadata": {},
   "outputs": [],
   "source": [
    "#get comparisons\n",
    "all_combos = pd.read_csv('/Volumes/LaCie/SingleCellSpectra/data/list_of_spectra_to_compare/all_combos.tsv', sep='\\t')\n"
   ]
  },
  {
   "cell_type": "code",
   "execution_count": 7,
   "id": "3e60c76e",
   "metadata": {},
   "outputs": [],
   "source": [
    "b_v_2 = all_combos[all_combos['type']=='2ng good vs bulk good']\n",
    "bv2 = b_v_2[(b_v_2['File1'] =='Ex_Auto_J3_30umTB_2ngQC_60m_1') &(b_v_2['File2'] =='OR11_20160122_PG_HeLa_CVB3_CT_A')]"
   ]
  },
  {
   "cell_type": "code",
   "execution_count": 21,
   "id": "7a1d22c5",
   "metadata": {},
   "outputs": [
    {
     "data": {
      "text/plain": [
       "array(['ITESVAETAQTIK_2.0', 'ITFDAFPGEPDK_2.0', 'ITFLLQAIR_2.0',\n",
       "       'ITGEAFVQFASQELAEK_2.0', 'ITHQIVDRPGQQTSVIGR_4.0',\n",
       "       'ITIGQAPTEK_2.0', 'ITITNDQNR_2.0', 'ITLDNAYMEK_2.0',\n",
       "       'ITLDNAYM[Common Variable:Oxidation on M]EK_2.0',\n",
       "       'ITLPVDFVTADK_2.0', 'ITLQDVVSHSK_3.0', 'ITLVSAAPGK_2.0',\n",
       "       'ITMIAEPLEK_2.0', 'ITNDFYPEEDGK_2.0', 'ITPAHDQNDYEVGQR_3.0',\n",
       "       'ITPSYVAFTPEGER_2.0', 'ITPSYVAFTPEGER_3.0', 'ITQDIFQQLLK_2.0',\n",
       "       'ITQLTPFNGYAGAK_2.0', 'ITQSNAILR_2.0', 'ITSEALLVTQQLVK_2.0',\n",
       "       'ITSEIPQTER_2.0', 'ITSGPFEPDLYK_2.0', 'ITSPLMEPSSIEK_2.0',\n",
       "       'ITTGAQDDLRK_3.0', 'ITVLEALR_2.0', 'ITVTSEVPFSK_2.0',\n",
       "       'IVADFSASVK_2.0', 'IVAEEFLK_2.0', 'IVAERPGTNSTGPAPMAPPR_3.0',\n",
       "       'IVAETMNNYLFGER_2.0', 'IVAIGTSDLDK_2.0', 'IVALSSSLSNAK_2.0',\n",
       "       'IVAPPGGR_2.0', 'IVDDWANDGWGLK_2.0', 'IVDPEIALK_2.0',\n",
       "       'IVDVIGEK_2.0', 'IVEIPFNSTNK_2.0', 'IVEMSTSK_2.0',\n",
       "       'IVEPYIAWGYPNLK_2.0', 'IVEVLLMK_2.0', 'IVFSGNLFQHQEDSK_3.0',\n",
       "       'IVFVTGNAK_2.0', 'IVHAFDMEDLGDK_3.0', 'IVIGYQSHADTATK_3.0',\n",
       "       'IVILEYQPSK_2.0', 'IVILPDYLEIAR_2.0', 'IVLDSDAAEYGGHQR_3.0',\n",
       "       'IVLEDGTLHVTEGSGR_3.0', 'IVLLDSSLEYK_2.0'], dtype=object)"
      ]
     },
     "execution_count": 21,
     "metadata": {},
     "output_type": "execute_result"
    }
   ],
   "source": [
    "bv2['peptide_charge'].unique()[3000:3050]"
   ]
  },
  {
   "cell_type": "code",
   "execution_count": 22,
   "id": "11920003",
   "metadata": {},
   "outputs": [
    {
     "data": {
      "text/html": [
       "<div>\n",
       "<style scoped>\n",
       "    .dataframe tbody tr th:only-of-type {\n",
       "        vertical-align: middle;\n",
       "    }\n",
       "\n",
       "    .dataframe tbody tr th {\n",
       "        vertical-align: top;\n",
       "    }\n",
       "\n",
       "    .dataframe thead th {\n",
       "        text-align: right;\n",
       "    }\n",
       "</style>\n",
       "<table border=\"1\" class=\"dataframe\">\n",
       "  <thead>\n",
       "    <tr style=\"text-align: right;\">\n",
       "      <th></th>\n",
       "      <th>peptide_charge</th>\n",
       "      <th>Scan1</th>\n",
       "      <th>Prob1</th>\n",
       "      <th>File1</th>\n",
       "      <th>Scan2</th>\n",
       "      <th>Prob2</th>\n",
       "      <th>File2</th>\n",
       "      <th>type</th>\n",
       "    </tr>\n",
       "  </thead>\n",
       "  <tbody>\n",
       "    <tr>\n",
       "      <th>611207</th>\n",
       "      <td>IVHAFDMEDLGDK_3.0</td>\n",
       "      <td>21879</td>\n",
       "      <td>0.0</td>\n",
       "      <td>Ex_Auto_J3_30umTB_2ngQC_60m_1</td>\n",
       "      <td>65269</td>\n",
       "      <td>0.000149</td>\n",
       "      <td>OR11_20160122_PG_HeLa_CVB3_CT_A</td>\n",
       "      <td>2ng good vs bulk good</td>\n",
       "    </tr>\n",
       "    <tr>\n",
       "      <th>611223</th>\n",
       "      <td>IVHAFDMEDLGDK_3.0</td>\n",
       "      <td>21866</td>\n",
       "      <td>0.0</td>\n",
       "      <td>Ex_Auto_J3_30umTB_2ngQC_60m_1</td>\n",
       "      <td>65269</td>\n",
       "      <td>0.000149</td>\n",
       "      <td>OR11_20160122_PG_HeLa_CVB3_CT_A</td>\n",
       "      <td>2ng good vs bulk good</td>\n",
       "    </tr>\n",
       "    <tr>\n",
       "      <th>611241</th>\n",
       "      <td>IVHAFDMEDLGDK_3.0</td>\n",
       "      <td>21879</td>\n",
       "      <td>0.0</td>\n",
       "      <td>Ex_Auto_J3_30umTB_2ngQC_60m_1</td>\n",
       "      <td>65613</td>\n",
       "      <td>0.000000</td>\n",
       "      <td>OR11_20160122_PG_HeLa_CVB3_CT_A</td>\n",
       "      <td>2ng good vs bulk good</td>\n",
       "    </tr>\n",
       "    <tr>\n",
       "      <th>611255</th>\n",
       "      <td>IVHAFDMEDLGDK_3.0</td>\n",
       "      <td>21879</td>\n",
       "      <td>0.0</td>\n",
       "      <td>Ex_Auto_J3_30umTB_2ngQC_60m_1</td>\n",
       "      <td>65202</td>\n",
       "      <td>0.000000</td>\n",
       "      <td>OR11_20160122_PG_HeLa_CVB3_CT_A</td>\n",
       "      <td>2ng good vs bulk good</td>\n",
       "    </tr>\n",
       "    <tr>\n",
       "      <th>611266</th>\n",
       "      <td>IVHAFDMEDLGDK_3.0</td>\n",
       "      <td>21879</td>\n",
       "      <td>0.0</td>\n",
       "      <td>Ex_Auto_J3_30umTB_2ngQC_60m_1</td>\n",
       "      <td>65618</td>\n",
       "      <td>0.000000</td>\n",
       "      <td>OR11_20160122_PG_HeLa_CVB3_CT_A</td>\n",
       "      <td>2ng good vs bulk good</td>\n",
       "    </tr>\n",
       "    <tr>\n",
       "      <th>611269</th>\n",
       "      <td>IVHAFDMEDLGDK_3.0</td>\n",
       "      <td>21866</td>\n",
       "      <td>0.0</td>\n",
       "      <td>Ex_Auto_J3_30umTB_2ngQC_60m_1</td>\n",
       "      <td>65202</td>\n",
       "      <td>0.000000</td>\n",
       "      <td>OR11_20160122_PG_HeLa_CVB3_CT_A</td>\n",
       "      <td>2ng good vs bulk good</td>\n",
       "    </tr>\n",
       "    <tr>\n",
       "      <th>611273</th>\n",
       "      <td>IVHAFDMEDLGDK_3.0</td>\n",
       "      <td>21866</td>\n",
       "      <td>0.0</td>\n",
       "      <td>Ex_Auto_J3_30umTB_2ngQC_60m_1</td>\n",
       "      <td>65618</td>\n",
       "      <td>0.000000</td>\n",
       "      <td>OR11_20160122_PG_HeLa_CVB3_CT_A</td>\n",
       "      <td>2ng good vs bulk good</td>\n",
       "    </tr>\n",
       "    <tr>\n",
       "      <th>611274</th>\n",
       "      <td>IVHAFDMEDLGDK_3.0</td>\n",
       "      <td>21866</td>\n",
       "      <td>0.0</td>\n",
       "      <td>Ex_Auto_J3_30umTB_2ngQC_60m_1</td>\n",
       "      <td>65613</td>\n",
       "      <td>0.000000</td>\n",
       "      <td>OR11_20160122_PG_HeLa_CVB3_CT_A</td>\n",
       "      <td>2ng good vs bulk good</td>\n",
       "    </tr>\n",
       "    <tr>\n",
       "      <th>611275</th>\n",
       "      <td>IVHAFDMEDLGDK_3.0</td>\n",
       "      <td>21866</td>\n",
       "      <td>0.0</td>\n",
       "      <td>Ex_Auto_J3_30umTB_2ngQC_60m_1</td>\n",
       "      <td>65867</td>\n",
       "      <td>0.000235</td>\n",
       "      <td>OR11_20160122_PG_HeLa_CVB3_CT_A</td>\n",
       "      <td>2ng good vs bulk good</td>\n",
       "    </tr>\n",
       "    <tr>\n",
       "      <th>611283</th>\n",
       "      <td>IVHAFDMEDLGDK_3.0</td>\n",
       "      <td>21879</td>\n",
       "      <td>0.0</td>\n",
       "      <td>Ex_Auto_J3_30umTB_2ngQC_60m_1</td>\n",
       "      <td>65867</td>\n",
       "      <td>0.000235</td>\n",
       "      <td>OR11_20160122_PG_HeLa_CVB3_CT_A</td>\n",
       "      <td>2ng good vs bulk good</td>\n",
       "    </tr>\n",
       "  </tbody>\n",
       "</table>\n",
       "</div>"
      ],
      "text/plain": [
       "           peptide_charge  Scan1  Prob1                          File1  Scan2  \\\n",
       "611207  IVHAFDMEDLGDK_3.0  21879    0.0  Ex_Auto_J3_30umTB_2ngQC_60m_1  65269   \n",
       "611223  IVHAFDMEDLGDK_3.0  21866    0.0  Ex_Auto_J3_30umTB_2ngQC_60m_1  65269   \n",
       "611241  IVHAFDMEDLGDK_3.0  21879    0.0  Ex_Auto_J3_30umTB_2ngQC_60m_1  65613   \n",
       "611255  IVHAFDMEDLGDK_3.0  21879    0.0  Ex_Auto_J3_30umTB_2ngQC_60m_1  65202   \n",
       "611266  IVHAFDMEDLGDK_3.0  21879    0.0  Ex_Auto_J3_30umTB_2ngQC_60m_1  65618   \n",
       "611269  IVHAFDMEDLGDK_3.0  21866    0.0  Ex_Auto_J3_30umTB_2ngQC_60m_1  65202   \n",
       "611273  IVHAFDMEDLGDK_3.0  21866    0.0  Ex_Auto_J3_30umTB_2ngQC_60m_1  65618   \n",
       "611274  IVHAFDMEDLGDK_3.0  21866    0.0  Ex_Auto_J3_30umTB_2ngQC_60m_1  65613   \n",
       "611275  IVHAFDMEDLGDK_3.0  21866    0.0  Ex_Auto_J3_30umTB_2ngQC_60m_1  65867   \n",
       "611283  IVHAFDMEDLGDK_3.0  21879    0.0  Ex_Auto_J3_30umTB_2ngQC_60m_1  65867   \n",
       "\n",
       "           Prob2                            File2                   type  \n",
       "611207  0.000149  OR11_20160122_PG_HeLa_CVB3_CT_A  2ng good vs bulk good  \n",
       "611223  0.000149  OR11_20160122_PG_HeLa_CVB3_CT_A  2ng good vs bulk good  \n",
       "611241  0.000000  OR11_20160122_PG_HeLa_CVB3_CT_A  2ng good vs bulk good  \n",
       "611255  0.000000  OR11_20160122_PG_HeLa_CVB3_CT_A  2ng good vs bulk good  \n",
       "611266  0.000000  OR11_20160122_PG_HeLa_CVB3_CT_A  2ng good vs bulk good  \n",
       "611269  0.000000  OR11_20160122_PG_HeLa_CVB3_CT_A  2ng good vs bulk good  \n",
       "611273  0.000000  OR11_20160122_PG_HeLa_CVB3_CT_A  2ng good vs bulk good  \n",
       "611274  0.000000  OR11_20160122_PG_HeLa_CVB3_CT_A  2ng good vs bulk good  \n",
       "611275  0.000235  OR11_20160122_PG_HeLa_CVB3_CT_A  2ng good vs bulk good  \n",
       "611283  0.000235  OR11_20160122_PG_HeLa_CVB3_CT_A  2ng good vs bulk good  "
      ]
     },
     "execution_count": 22,
     "metadata": {},
     "output_type": "execute_result"
    }
   ],
   "source": [
    "bv2[bv2['peptide_charge']=='IVHAFDMEDLGDK_3.0']"
   ]
  }
 ],
 "metadata": {
  "kernelspec": {
   "display_name": "Python 3 (ipykernel)",
   "language": "python",
   "name": "python3"
  },
  "language_info": {
   "codemirror_mode": {
    "name": "ipython",
    "version": 3
   },
   "file_extension": ".py",
   "mimetype": "text/x-python",
   "name": "python",
   "nbconvert_exporter": "python",
   "pygments_lexer": "ipython3",
   "version": "3.9.12"
  }
 },
 "nbformat": 4,
 "nbformat_minor": 5
}
